{
 "cells": [
  {
   "cell_type": "markdown",
   "id": "9cc374fc",
   "metadata": {},
   "source": [
    "# Binary Cross-Entropy Loss\n",
    "- BCE loss 常用于二分类问题，比如判断一张图是不是猫，一封邮件是否是垃圾邮件\n",
    "- BCE的数学公式定义为：对于样本 $(x, y)$，其中 $y \\in \\{0, 1\\}$， 模型的预测概率为 $\\hat{y} \\in (0,1)$， 那么BCE Loss为：\n",
    "  - $$\\mathrm{BCE}(y, \\hat{y}) = -\\left( y \\cdot \\log(\\hat{y}) + (1 - y) \\cdot \\log(1 - \\hat{y}) \\right)$$"
   ]
  },
  {
   "cell_type": "markdown",
   "id": "bf54c9a4",
   "metadata": {},
   "source": [
    "## 🧠 为什么 Binary Cross Entropy 是这样定义的？\n",
    "\n",
    "我们正在做 **二分类问题**，例如判断一张图是不是猫：\n",
    "\n",
    "- 真实标签 $y \\in \\{0, 1\\}$\n",
    "    - $y = 1$：是猫\n",
    "    - $y = 0$：不是猫\n",
    "\n",
    "- 模型预测的是概率 $\\hat{y} \\in (0, 1)$\n",
    "    - 表示预测为“是猫”的概率\n",
    "\n",
    "---\n",
    "\n",
    "### 🔍 第一步：样本的概率表达\n",
    "\n",
    "对于每个样本，我们希望模型预测的概率尽量接近真实标签：\n",
    "\n",
    "$$\n",
    "P(y \\mid \\hat{y}) =\n",
    "\\begin{cases}\n",
    "\\hat{y}, & \\text{if } y = 1 \\\\\n",
    "1 - \\hat{y}, & \\text{if } y = 0\n",
    "\\end{cases}\n",
    "$$\n",
    "\n",
    "---\n",
    "\n",
    "### ✨ 第二步：写成统一的表达式\n",
    "\n",
    "我们可以把上面两个条件统一写成：\n",
    "\n",
    "$$\n",
    "P(y \\mid \\hat{y}) = \\hat{y}^y \\cdot (1 - \\hat{y})^{1 - y}\n",
    "$$\n",
    "\n",
    "- 如果 $y = 1$：得到 $\\hat{y}$\n",
    "- 如果 $y = 0$：得到 $1 - \\hat{y}$\n",
    "\n",
    "---\n",
    "\n",
    "### 💣 第三步：最大化这个概率（最大似然）\n",
    "\n",
    "我们希望模型输出的概率 $P(y \\mid \\hat{y})$ 尽量大（最大似然）：\n",
    "\n",
    "但我们不直接最大化它，而是 **最小化它的负对数**（更稳定、更易优化）：\n",
    "\n",
    "$$\n",
    "\\mathcal{L} = -\\log\\left( \\hat{y}^y \\cdot (1 - \\hat{y})^{1 - y} \\right)\n",
    "$$\n",
    "\n",
    "---\n",
    "\n",
    "### 🧮 第四步：展开对数\n",
    "\n",
    "根据对数恒等式 $\\log(ab) = \\log a + \\log b$，可得：\n",
    "\n",
    "$$\n",
    "\\mathcal{L} = - \\left( y \\log \\hat{y} + (1 - y) \\log(1 - \\hat{y}) \\right)\n",
    "$$\n",
    "\n",
    "---\n",
    "\n",
    "### ✅ 最终公式：Binary Cross Entropy\n",
    "\n",
    "$$\n",
    "\\mathrm{BCE}(y, \\hat{y}) = - \\left( y \\log \\hat{y} + (1 - y) \\log(1 - \\hat{y}) \\right)\n",
    "$$\n",
    "\n",
    "---\n",
    "\n",
    "### 📌 意义分析：\n",
    "\n",
    "- 如果 $y = 1$：损失是 $-\\log(\\hat{y})$，希望模型预测越接近 1 越好\n",
    "- 如果 $y = 0$：损失是 $-\\log(1 - \\hat{y})$，希望模型预测越接近 0 越好\n",
    "\n",
    "---\n",
    "\n",
    "### 🧠 小结：\n",
    "\n",
    "| 步骤 | 内容 | 表达式 |\n",
    "|------|------|--------|\n",
    "| 1️⃣ | 样本概率 | $\\hat{y}^y (1 - \\hat{y})^{1 - y}$ |\n",
    "| 2️⃣ | 最大似然 | $\\max P(y \\mid \\hat{y})$ |\n",
    "| 3️⃣ | 转化为最小化损失 | $-\\log P(y \\mid \\hat{y})$ |\n",
    "| 4️⃣ | 得到 BCE | $-[y \\log \\hat{y} + (1 - y) \\log(1 - \\hat{y})]$ |\n"
   ]
  },
  {
   "cell_type": "code",
   "execution_count": 1,
   "id": "cd725ae9",
   "metadata": {},
   "outputs": [],
   "source": [
    "# coding BCE loss with numpy\n",
    "import numpy as np\n",
    "def BCE_loss(y_true, y_pred):\n",
    "    y_true = np.asarray(y_true)\n",
    "    y_pred = np.asarray(y_pred)\n",
    "\n",
    "    epsilon = 1e-15\n",
    "    y_pred = np.clip(y_pred, a_min= epsilon, a_max=1-epsilon)\n",
    "\n",
    "    loss = -np.mean(y_true * np.log(y_pred) + (1 - y_true) * np.log(1  - y_pred))\n",
    "    return loss"
   ]
  },
  {
   "cell_type": "markdown",
   "id": "a0c0603c",
   "metadata": {},
   "source": [
    "### 用PyTorch原生实现BCE Loss"
   ]
  },
  {
   "cell_type": "code",
   "execution_count": 2,
   "id": "c7a839e9",
   "metadata": {},
   "outputs": [
    {
     "name": "stdout",
     "output_type": "stream",
     "text": [
      "Loss is: 0.2284\n"
     ]
    }
   ],
   "source": [
    "# 需要注意的一点是，PyTorch的BCE loss必须接受的是sigmoid之后的概率，模型输出的是logits，sigmoid把logits转化为[0,1]之间的概率\n",
    "import torch\n",
    "import torch.nn as nn\n",
    "\n",
    "y_true= torch.tensor([1.0, 0.0, 1.0])\n",
    "y_pred = torch.tensor([0.9, 0.2, 0.7])\n",
    "criterion = nn.BCELoss()\n",
    "loss = criterion(y_pred, y_true)\n",
    "print(f'Loss is: {loss.item():.4f}') # .item() 是 PyTorch 中张量（torch.Tensor）的一个专属方法， 从标量张量（即只包含一个数的 tensor）中，取出那个 Python 原生数字（float 或 int）\n",
    "\n",
    "# 如果我们使用的是nn.BCEWithLogitsLoss()，那么会直接把模型输出的logits转化为[0, 1]之间的概率"
   ]
  },
  {
   "cell_type": "markdown",
   "id": "fb44eb35",
   "metadata": {},
   "source": [
    "### BCEWithLogitsLoss()\n",
    "- 首先，BCEWithLogtisLoss指的是带有 logits 的二元交叉熵损失函数\n",
    "- 什么是Logits？\n",
    "    - “logits” 指的是模型输出的未经 sigmoid 转换的值\n",
    "    - 你不能直接理解为概率，它可能是：负数、正数\n",
    "    - 而把 logits 经过 sigmoid，才变成概率\n",
    "- BCEWithLogitsLoss() = sigmoid + BCELoss\n",
    "- 数值更加稳定"
   ]
  },
  {
   "cell_type": "markdown",
   "id": "7cab6272",
   "metadata": {},
   "source": [
    "### 让我们用BCEWithLogitsLoss来实战一个小项目吧"
   ]
  },
  {
   "cell_type": "code",
   "execution_count": 6,
   "id": "5220e59f",
   "metadata": {},
   "outputs": [],
   "source": [
    "import torch\n",
    "import torch.nn as nn\n",
    "import torch.optim as optim\n",
    "from torch.utils.data import TensorDataset, DataLoader\n",
    "\n",
    "# set seed\n",
    "torch.manual_seed(42)\n",
    "\n",
    "#模拟数据，创建1000个Samples，每个Sample20个features\n",
    "X = torch.randn(1000, 20)\n",
    "\n",
    "# 创建虚拟的标签,每个Sample有20个features，所以weights的形状应该是(20, 1)\n",
    "true_weights = torch.randn(20, 1)\n",
    "logits = torch.matmul(X, true_weights) + 0.5 * torch.randn(1000, 1)\n",
    "y = (torch.sigmoid(logits) > 0.5).float().squeeze(1)\n",
    "\n",
    "# 构造数据集\n",
    "dataset = TensorDataset(X, y)\n",
    "loader = DataLoader(dataset, batch_size=32, shuffle=True)"
   ]
  },
  {
   "cell_type": "markdown",
   "id": "16e87dbd",
   "metadata": {},
   "source": [
    "### 定义和初始化模型"
   ]
  },
  {
   "cell_type": "code",
   "execution_count": 8,
   "id": "dfab3743",
   "metadata": {},
   "outputs": [],
   "source": [
    "class MLPBinaryClassifier(nn.Module):\n",
    "    def __init__(self):\n",
    "        super().__init__()\n",
    "        self.net = nn.Sequential(\n",
    "            nn.Linear(20, 64),\n",
    "            nn.ReLU(),\n",
    "            nn.Dropout(0.3),\n",
    "            nn.Linear(64, 32),\n",
    "            nn.ReLU(),\n",
    "            nn.Linear(32, 1)\n",
    "        )\n",
    "    \n",
    "    def forward(self, x):\n",
    "        return self.net(x)\n",
    "\n",
    "# 初始化模型\n",
    "model = MLPBinaryClassifier()\n",
    "criterion = nn.BCEWithLogitsLoss()\n",
    "optimizer = optim.Adam(model.parameters(), lr=0.01)\n",
    "    "
   ]
  },
  {
   "cell_type": "code",
   "execution_count": 9,
   "id": "2f837fd5",
   "metadata": {},
   "outputs": [
    {
     "name": "stdout",
     "output_type": "stream",
     "text": [
      "Epoch 1/20 | Average Loss: 0.3771114901304245\n",
      "Epoch 2/20 | Average Loss: 0.1785592926181853\n",
      "Epoch 3/20 | Average Loss: 0.12186101683974267\n",
      "Epoch 4/20 | Average Loss: 0.11625929532945156\n",
      "Epoch 5/20 | Average Loss: 0.10553942361474038\n",
      "Epoch 6/20 | Average Loss: 0.07541870722919702\n",
      "Epoch 7/20 | Average Loss: 0.09169523367285728\n",
      "Epoch 8/20 | Average Loss: 0.08234181106742472\n",
      "Epoch 9/20 | Average Loss: 0.06070415324531495\n",
      "Epoch 10/20 | Average Loss: 0.08047227892279625\n",
      "Epoch 11/20 | Average Loss: 0.08207003509998322\n",
      "Epoch 12/20 | Average Loss: 0.08195666119456291\n",
      "Epoch 13/20 | Average Loss: 0.06152057254314423\n",
      "Epoch 14/20 | Average Loss: 0.048931623123586176\n",
      "Epoch 15/20 | Average Loss: 0.06297948902100324\n",
      "Epoch 16/20 | Average Loss: 0.06662567184865474\n",
      "Epoch 17/20 | Average Loss: 0.050685908898711204\n",
      "Epoch 18/20 | Average Loss: 0.06950504911644384\n",
      "Epoch 19/20 | Average Loss: 0.05299163167364895\n",
      "Epoch 20/20 | Average Loss: 0.05127598014473915\n"
     ]
    },
    {
     "data": {
      "image/png": "[encoded data removed]",
      "text/plain": [
       "<Figure size 640x480 with 1 Axes>"
      ]
     },
     "metadata": {},
     "output_type": "display_data"
    }
   ],
   "source": [
    "import matplotlib.pyplot as plt\n",
    "\n",
    "def train_model(num_epochs, model, loader, criterion):\n",
    "    loss_history = []\n",
    "    for epoch in range(num_epochs):\n",
    "        model.train()\n",
    "        epoch_loss= 0.0\n",
    "        for batch_x, batch_y in loader:\n",
    "            optimizer.zero_grad()\n",
    "            logits = model(batch_x).squeeze(1)\n",
    "            loss = criterion(logits, batch_y)\n",
    "            loss.backward()\n",
    "            optimizer.step()\n",
    "            epoch_loss += loss.item() * batch_x.size(0)\n",
    "        average_loss = epoch_loss / len(loader.dataset)\n",
    "        loss_history.append(average_loss)\n",
    "        print(f'Epoch {epoch + 1}/{num_epochs} | Average Loss: {average_loss}')\n",
    "    return loss_history\n",
    "\n",
    "def plot_loss_curve(loss_history):\n",
    "    plt.plot(loss_history, marker='o')\n",
    "    plt.xlabel('Epochs')\n",
    "    plt.ylabel('Average Loss')\n",
    "    plt.title('Average Loss VS. Epochs')\n",
    "    plt.grid(True)\n",
    "    plt.show()\n",
    "\n",
    "loss_history = train_model(num_epochs=20, model=model, loader=loader, criterion=criterion)\n",
    "plot_loss_curve(loss_history)"
   ]
  },
  {
   "cell_type": "code",
   "execution_count": null,
   "id": "2e6a8802",
   "metadata": {},
   "outputs": [
    {
     "name": "stdout",
     "output_type": "stream",
     "text": [
      "Model accuracy is: 99.60%\n"
     ]
    },
    {
     "ename": "",
     "evalue": "",
     "output_type": "error",
     "traceback": [
      "\u001b[1;31mThe Kernel crashed while executing code in the current cell or a previous cell. \n",
      "\u001b[1;31mPlease review the code in the cell(s) to identify a possible cause of the failure. \n",
      "\u001b[1;31mClick <a href='https://aka.ms/vscodeJupyterKernelCrash'>here</a> for more info. \n",
      "\u001b[1;31mView Jupyter <a href='command:jupyter.viewOutput'>log</a> for further details."
     ]
    }
   ],
   "source": [
    "# Eval模型\n",
    "model.eval()\n",
    "with torch.inference_mode():\n",
    "    logits = model(X)\n",
    "    prob = torch.sigmoid(logits)\n",
    "    pred = (prob > 0.5).float().squeeze()\n",
    "    accuracy = (pred == y.squeeze()).float().mean()\n",
    "    print(f'Model accuracy is: {accuracy.item() * 100:.2f}%')"
   ]
  }
 ],
 "metadata": {
  "kernelspec": {
   "display_name": "Python 3",
   "language": "python",
   "name": "python3"
  },
  "language_info": {
   "codemirror_mode": {
    "name": "ipython",
    "version": 3
   },
   "file_extension": ".py",
   "mimetype": "text/x-python",
   "name": "python",
   "nbconvert_exporter": "python",
   "pygments_lexer": "ipython3",
   "version": "3.11.9"
  }
 },
 "nbformat": 4,
 "nbformat_minor": 5
}
